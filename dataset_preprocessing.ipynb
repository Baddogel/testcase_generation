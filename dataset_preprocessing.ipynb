{
 "cells": [
  {
   "cell_type": "code",
   "execution_count": 18,
   "metadata": {},
   "outputs": [],
   "source": [
    "from datasets import load_dataset"
   ]
  },
  {
   "cell_type": "code",
   "execution_count": 19,
   "metadata": {},
   "outputs": [],
   "source": [
    "# Загрузка исходного датасета\n",
    "dataset = load_dataset(\"kumarharsh1812/test\")\n",
    "\n",
    "# Выбор нужных колонок\n",
    "selected_dataset = dataset['train'].select_columns([\"test_scenario\", \"test_steps\"])\n",
    "\n",
    "# Разделение на тренировочную и тестовую выборки (80/20)\n",
    "split_dataset = selected_dataset.train_test_split(test_size=0.2, seed=42)"
   ]
  },
  {
   "cell_type": "code",
   "execution_count": 7,
   "metadata": {},
   "outputs": [
    {
     "data": {
      "text/plain": [
       "{'test_scenario': ['Verify that a user can successfully modify their subscription email terms on the sports and fitness equipment website.',\n",
       "  'Verify that the streaming quality is consistent during a live concert.',\n",
       "  'Verify the system behavior when scanning an invalid or expired ticket at event check-in.'],\n",
       " 'test_steps': ['1. Login to the sports and fitness equipment website.\\n2. Navigate to the subscription settings section.\\n3. Modify the email terms for subscription.\\n4. Save the changes.',\n",
       "  '1. Access a live concert streaming.\\n2. Observe the video and audio quality throughout the concert.',\n",
       "  '1. Scan an invalid or expired ticket QR code at the event check-in.\\n2. Verify that the system prompts an error message indicating the ticket is invalid or expired.']}"
      ]
     },
     "execution_count": 7,
     "metadata": {},
     "output_type": "execute_result"
    }
   ],
   "source": [
    "split_dataset['train'][:3]"
   ]
  },
  {
   "cell_type": "code",
   "execution_count": 8,
   "metadata": {},
   "outputs": [
    {
     "data": {
      "text/plain": [
       "{'test_scenario': ['Verify course progress sync across devices when there are no interruptions.',\n",
       "  'Validate the accuracy of QoS metrics monitoring tool by monitoring network latency during peak hours.',\n",
       "  'Verify that a user can send a message to a project collaborator.'],\n",
       " 'test_steps': ['1. Login to the online learning platform on Device A and start a course.\\n2. Verify that the progress is synced to Device B without any interruptions.',\n",
       "  '1. Simulate peak hours traffic on the network.\\n2. Monitor network latency for video streaming.',\n",
       "  '1. Log in to the platform as a project collaborator.\\n2. Navigate to the messaging feature.\\n3. Select a project collaborator to send a message.\\n4. Type a message and click on the send button.']}"
      ]
     },
     "execution_count": 8,
     "metadata": {},
     "output_type": "execute_result"
    }
   ],
   "source": [
    "split_dataset['test'][:3]"
   ]
  },
  {
   "cell_type": "code",
   "execution_count": 22,
   "metadata": {},
   "outputs": [
    {
     "name": "stderr",
     "output_type": "stream",
     "text": [
      "Saving the dataset (1/1 shards): 100%|██████████| 3738/3738 [00:00<00:00, 287554.03 examples/s]\n",
      "Saving the dataset (1/1 shards): 100%|██████████| 935/935 [00:00<00:00, 233766.94 examples/s]\n"
     ]
    }
   ],
   "source": [
    "# Сохранение полученного датасета в локальную директорию 'dataset'\n",
    "split_dataset.save_to_disk('dataset')"
   ]
  }
 ],
 "metadata": {
  "kernelspec": {
   "display_name": ".venv",
   "language": "python",
   "name": "python3"
  },
  "language_info": {
   "codemirror_mode": {
    "name": "ipython",
    "version": 3
   },
   "file_extension": ".py",
   "mimetype": "text/x-python",
   "name": "python",
   "nbconvert_exporter": "python",
   "pygments_lexer": "ipython3",
   "version": "3.12.6"
  }
 },
 "nbformat": 4,
 "nbformat_minor": 2
}
