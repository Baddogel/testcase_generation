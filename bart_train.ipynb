{
 "cells": [
  {
   "cell_type": "code",
   "execution_count": 1,
   "metadata": {},
   "outputs": [
    {
     "name": "stderr",
     "output_type": "stream",
     "text": [
      "c:\\Cove\\Python Projects\\testcase_generation\\.venv\\Lib\\site-packages\\tqdm\\auto.py:21: TqdmWarning: IProgress not found. Please update jupyter and ipywidgets. See https://ipywidgets.readthedocs.io/en/stable/user_install.html\n",
      "  from .autonotebook import tqdm as notebook_tqdm\n"
     ]
    }
   ],
   "source": [
    "import torch\n",
    "from datasets import load_from_disk\n",
    "from transformers import (\n",
    "    BartTokenizer,\n",
    "    BartForConditionalGeneration,\n",
    "    Seq2SeqTrainingArguments,\n",
    "    Seq2SeqTrainer,\n",
    "    DataCollatorForSeq2Seq\n",
    ")"
   ]
  },
  {
   "cell_type": "code",
   "execution_count": 5,
   "metadata": {},
   "outputs": [],
   "source": [
    "# Настройки\n",
    "MODEL_NAME = \"facebook/bart-base\"\n",
    "MODEL_PATH = \"models/bart-testcase\"\n",
    "BATCH_SIZE = 16\n",
    "MAX_INPUT_LENGTH = 32\n",
    "MAX_TARGET_LENGTH = 88\n",
    "LEARNING_RATE = 2e-5\n",
    "EPOCHS = 20\n",
    "DEVICE = torch.device(\"cuda\" if torch.cuda.is_available() else \"cpu\")\n",
    "\n",
    "# Загрузка датасета\n",
    "dataset = load_from_disk('dataset')\n",
    "train_dataset = dataset['train']\n",
    "test_dataset = dataset['test']\n",
    "\n",
    "# Инициализация токенизатора и модели\n",
    "tokenizer = BartTokenizer.from_pretrained(MODEL_NAME)\n",
    "model = BartForConditionalGeneration.from_pretrained(MODEL_NAME).to(DEVICE)"
   ]
  },
  {
   "cell_type": "code",
   "execution_count": 3,
   "metadata": {},
   "outputs": [
    {
     "name": "stdout",
     "output_type": "stream",
     "text": [
      "Токенизированные длины для test_scenario:\n",
      "{'max': 31, 'min': 5, 'avg': 15.937637969094922, 'p95': 22}\n",
      "\n",
      "Токенизированные длины для test_steps:\n",
      "{'max': 86, 'min': 11, 'avg': 40.184878587196465, 'p95': 62}\n"
     ]
    }
   ],
   "source": [
    "# Функция для анализа длин в токенах\n",
    "def analyze_token_lengths(dataset, column_name):\n",
    "    token_lengths = [len(tokenizer.encode(text)) for text in dataset[column_name]]\n",
    "    max_length = max(token_lengths)\n",
    "    min_length = min(token_lengths)\n",
    "    avg_length = sum(token_lengths) / len(token_lengths)\n",
    "    p95_length = sorted(token_lengths)[int(len(token_lengths) * 0.95)]\n",
    "    return {\n",
    "        \"max\": max_length,\n",
    "        \"min\": min_length,\n",
    "        \"avg\": avg_length,\n",
    "        \"p95\": p95_length\n",
    "    }\n",
    "\n",
    "# Анализ длин входных данных в токенах\n",
    "input_token_stats = analyze_token_lengths(train_dataset, \"test_scenario\")\n",
    "print(\"Токенизированные длины для test_scenario:\")\n",
    "print(input_token_stats)\n",
    "\n",
    "# Анализ длин выходных данных в токенах\n",
    "target_token_stats = analyze_token_lengths(train_dataset, \"test_steps\")\n",
    "print(\"\\nТокенизированные длины для test_steps:\")\n",
    "print(target_token_stats)"
   ]
  },
  {
   "cell_type": "code",
   "execution_count": 6,
   "metadata": {},
   "outputs": [
    {
     "name": "stderr",
     "output_type": "stream",
     "text": [
      "Map: 100%|██████████| 3624/3624 [00:01<00:00, 2987.60 examples/s]\n",
      "Map: 100%|██████████| 906/906 [00:00<00:00, 2694.74 examples/s]\n"
     ]
    }
   ],
   "source": [
    "\n",
    "# Предобработка данных\n",
    "def preprocess_function(examples):\n",
    "    inputs = examples['test_scenario']\n",
    "    targets = examples['test_steps']\n",
    "    model_inputs = tokenizer(\n",
    "        inputs,\n",
    "        max_length=MAX_INPUT_LENGTH,\n",
    "        truncation=True,\n",
    "        padding='max_length'\n",
    "    )\n",
    "    labels = tokenizer(\n",
    "        text_target=targets,\n",
    "        max_length=MAX_TARGET_LENGTH,\n",
    "        truncation=True,\n",
    "        padding='max_length'\n",
    "    )\n",
    "    model_inputs['labels'] = labels['input_ids']\n",
    "    return model_inputs\n",
    "\n",
    "tokenized_train = train_dataset.map(preprocess_function, batched=True)\n",
    "tokenized_test = test_dataset.map(preprocess_function, batched=True)"
   ]
  },
  {
   "cell_type": "code",
   "execution_count": 7,
   "metadata": {},
   "outputs": [
    {
     "name": "stderr",
     "output_type": "stream",
     "text": [
      "C:\\Users\\Alex\\AppData\\Local\\Temp\\ipykernel_5024\\543947241.py:25: FutureWarning: `tokenizer` is deprecated and will be removed in version 5.0.0 for `Seq2SeqTrainer.__init__`. Use `processing_class` instead.\n",
      "  trainer = Seq2SeqTrainer(\n"
     ]
    }
   ],
   "source": [
    "# Настройка data collator\n",
    "data_collator = DataCollatorForSeq2Seq(tokenizer, model=model)\n",
    "\n",
    "# Конфигурация обучения\n",
    "training_args = Seq2SeqTrainingArguments(\n",
    "    output_dir='./models',\n",
    "    eval_strategy='epoch',\n",
    "    save_strategy='epoch',\n",
    "    logging_steps=10,\n",
    "    save_total_limit=2,\n",
    "    num_train_epochs=EPOCHS,\n",
    "    per_device_train_batch_size=BATCH_SIZE,\n",
    "    per_device_eval_batch_size=BATCH_SIZE,\n",
    "    gradient_accumulation_steps=2,\n",
    "    learning_rate=LEARNING_RATE,\n",
    "    weight_decay=0.01,\n",
    "    predict_with_generate=True,\n",
    "    bf16=True,  # Включаем bfloat16\n",
    "    fp16=False,\n",
    "    report_to=\"none\",\n",
    "    load_best_model_at_end=True\n",
    ")\n",
    "\n",
    "# Инициализация тренера\n",
    "trainer = Seq2SeqTrainer(\n",
    "    model=model,\n",
    "    args=training_args,\n",
    "    train_dataset=tokenized_train,\n",
    "    eval_dataset=tokenized_test,\n",
    "    data_collator=data_collator,\n",
    "    tokenizer=tokenizer\n",
    ")"
   ]
  },
  {
   "cell_type": "code",
   "execution_count": 8,
   "metadata": {},
   "outputs": [
    {
     "data": {
      "text/html": [
       "\n",
       "    <div>\n",
       "      \n",
       "      <progress value='2260' max='2260' style='width:300px; height:20px; vertical-align: middle;'></progress>\n",
       "      [2260/2260 08:17, Epoch 19/20]\n",
       "    </div>\n",
       "    <table border=\"1\" class=\"dataframe\">\n",
       "  <thead>\n",
       " <tr style=\"text-align: left;\">\n",
       "      <th>Epoch</th>\n",
       "      <th>Training Loss</th>\n",
       "      <th>Validation Loss</th>\n",
       "    </tr>\n",
       "  </thead>\n",
       "  <tbody>\n",
       "    <tr>\n",
       "      <td>1</td>\n",
       "      <td>1.794200</td>\n",
       "      <td>1.181428</td>\n",
       "    </tr>\n",
       "    <tr>\n",
       "      <td>2</td>\n",
       "      <td>0.624000</td>\n",
       "      <td>0.511679</td>\n",
       "    </tr>\n",
       "    <tr>\n",
       "      <td>3</td>\n",
       "      <td>0.490600</td>\n",
       "      <td>0.441208</td>\n",
       "    </tr>\n",
       "    <tr>\n",
       "      <td>4</td>\n",
       "      <td>0.439000</td>\n",
       "      <td>0.408015</td>\n",
       "    </tr>\n",
       "    <tr>\n",
       "      <td>5</td>\n",
       "      <td>0.411300</td>\n",
       "      <td>0.384800</td>\n",
       "    </tr>\n",
       "    <tr>\n",
       "      <td>6</td>\n",
       "      <td>0.385700</td>\n",
       "      <td>0.369340</td>\n",
       "    </tr>\n",
       "    <tr>\n",
       "      <td>7</td>\n",
       "      <td>0.372600</td>\n",
       "      <td>0.355075</td>\n",
       "    </tr>\n",
       "    <tr>\n",
       "      <td>8</td>\n",
       "      <td>0.346100</td>\n",
       "      <td>0.344816</td>\n",
       "    </tr>\n",
       "    <tr>\n",
       "      <td>9</td>\n",
       "      <td>0.327200</td>\n",
       "      <td>0.336054</td>\n",
       "    </tr>\n",
       "    <tr>\n",
       "      <td>10</td>\n",
       "      <td>0.280400</td>\n",
       "      <td>0.327840</td>\n",
       "    </tr>\n",
       "    <tr>\n",
       "      <td>11</td>\n",
       "      <td>0.297300</td>\n",
       "      <td>0.321989</td>\n",
       "    </tr>\n",
       "    <tr>\n",
       "      <td>12</td>\n",
       "      <td>0.292000</td>\n",
       "      <td>0.315485</td>\n",
       "    </tr>\n",
       "    <tr>\n",
       "      <td>13</td>\n",
       "      <td>0.266000</td>\n",
       "      <td>0.312502</td>\n",
       "    </tr>\n",
       "    <tr>\n",
       "      <td>14</td>\n",
       "      <td>0.270000</td>\n",
       "      <td>0.307611</td>\n",
       "    </tr>\n",
       "    <tr>\n",
       "      <td>15</td>\n",
       "      <td>0.255300</td>\n",
       "      <td>0.305661</td>\n",
       "    </tr>\n",
       "    <tr>\n",
       "      <td>16</td>\n",
       "      <td>0.260500</td>\n",
       "      <td>0.303208</td>\n",
       "    </tr>\n",
       "    <tr>\n",
       "      <td>17</td>\n",
       "      <td>0.252300</td>\n",
       "      <td>0.300927</td>\n",
       "    </tr>\n",
       "    <tr>\n",
       "      <td>18</td>\n",
       "      <td>0.228100</td>\n",
       "      <td>0.298562</td>\n",
       "    </tr>\n",
       "    <tr>\n",
       "      <td>19</td>\n",
       "      <td>0.248600</td>\n",
       "      <td>0.297673</td>\n",
       "    </tr>\n",
       "  </tbody>\n",
       "</table><p>"
      ],
      "text/plain": [
       "<IPython.core.display.HTML object>"
      ]
     },
     "metadata": {},
     "output_type": "display_data"
    },
    {
     "name": "stderr",
     "output_type": "stream",
     "text": [
      "c:\\Cove\\Python Projects\\testcase_generation\\.venv\\Lib\\site-packages\\transformers\\modeling_utils.py:3353: UserWarning: Moving the following attributes in the config to the generation config: {'early_stopping': True, 'num_beams': 4, 'no_repeat_ngram_size': 3, 'forced_bos_token_id': 0}. You are seeing this warning because you've set generation parameters in the model config, as opposed to in the generation config.\n",
      "  warnings.warn(\n",
      "There were missing keys in the checkpoint model loaded: ['model.encoder.embed_tokens.weight', 'model.decoder.embed_tokens.weight', 'lm_head.weight'].\n"
     ]
    }
   ],
   "source": [
    "# Обучение модели\n",
    "trainer.train()\n",
    "\n",
    "# Сохранение модели\n",
    "trainer.save_model(MODEL_PATH)"
   ]
  },
  {
   "cell_type": "code",
   "execution_count": 9,
   "metadata": {},
   "outputs": [
    {
     "name": "stdout",
     "output_type": "stream",
     "text": [
      "Scenario: Verify that the event management platform can integrate with the mobile app successfully.\n",
      "Generated steps: 1. Launch the event management platform on the mobile app.\n",
      "2. Navigate to the integration settings.\n",
      "3. Click on the \"Integrate\" button for the integrated platform.\n",
      "Actual steps: 1. Launch the event management platform on the mobile app.\n",
      "2. Log in using valid credentials.\n",
      "3. Navigate to the event integration feature.\n",
      "4. Attempt to integrate a sample event with the mobile app.\n",
      "==================================================\n",
      "Scenario: Test the platform's performance during peak usage times on a specific day (e.g., Black Friday sales).\n",
      "Generated steps: 1. Simulate high traffic by increasing the number of concurrent users on the platform.\n",
      "2. Monitor the platform's response time and performance during peak usage times.\n",
      "Actual steps: 1. Simulate high traffic volume during peak hours on a designated day.\n",
      "2. Analyze the platform's response time and server capacity under heavy load.\n",
      "==================================================\n",
      "Scenario: Verify that the platform recommends content based on friend interactions.\n",
      "Generated steps: 1. Log in to the platform with a user who has close friends.\n",
      "2. Navigate to the recommended content section.\n",
      "3. Check if the recommendations align with the user's friend interactions.\n",
      "Actual steps: 1. Log in to the platform with a user having at least one friend.\n",
      "2. Navigate to the recommendation section.\n",
      "3. Check if content recommended is influenced by the user's friends' interactions.\n",
      "==================================================\n",
      "Scenario: Verify that the system allows the user to initiate a backup of event data.\n",
      "Generated steps: 1. Log in to the event management platform.\n",
      "2. Navigate to the backup section.\n",
      "3. Click on the option to initiate a backup of event data.\n",
      "Actual steps: 1. Log into the event management platform.\n",
      "2. Navigate to the backup section.\n",
      "3. Click on the \"Backup Event Data\" button.\n",
      "==================================================\n",
      "Scenario: Ensure that users can engage in polls while watching content.\n",
      "Generated steps: 1. Watch a video on the platform.\n",
      "2. Click on the \"Polls\" button.\n",
      "3. Participate in a poll.\n",
      "Actual steps: 1. Begin watching a video.\n",
      "2. Encounter a poll question displayed on the screen.\n",
      "3. Cast a vote in the poll.\n",
      "==================================================\n"
     ]
    }
   ],
   "source": [
    "# Проверка результатов\n",
    "def generate_steps(text):\n",
    "    inputs = tokenizer(text, return_tensors='pt', max_length=MAX_INPUT_LENGTH, truncation=True).to(DEVICE)\n",
    "    output = model.generate(**inputs, max_length=MAX_TARGET_LENGTH)\n",
    "    return tokenizer.decode(output[0], skip_special_tokens=True)\n",
    "\n",
    "# Тестирование на примерах\n",
    "sample = test_dataset.select(range(5))\n",
    "for example in sample:\n",
    "    print(f\"Scenario: {example['test_scenario']}\")\n",
    "    print(f\"Generated steps: {generate_steps(example['test_scenario'])}\")\n",
    "    print(f\"Actual steps: {example['test_steps']}\\n{'='*50}\")"
   ]
  }
 ],
 "metadata": {
  "kernelspec": {
   "display_name": ".venv",
   "language": "python",
   "name": "python3"
  },
  "language_info": {
   "codemirror_mode": {
    "name": "ipython",
    "version": 3
   },
   "file_extension": ".py",
   "mimetype": "text/x-python",
   "name": "python",
   "nbconvert_exporter": "python",
   "pygments_lexer": "ipython3",
   "version": "3.12.6"
  }
 },
 "nbformat": 4,
 "nbformat_minor": 2
}
