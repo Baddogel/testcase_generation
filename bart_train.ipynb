{
 "cells": [
  {
   "cell_type": "code",
   "execution_count": 1,
   "metadata": {},
   "outputs": [
    {
     "name": "stderr",
     "output_type": "stream",
     "text": [
      "c:\\Cove\\Python Projects\\testcase_generation\\.venv\\Lib\\site-packages\\tqdm\\auto.py:21: TqdmWarning: IProgress not found. Please update jupyter and ipywidgets. See https://ipywidgets.readthedocs.io/en/stable/user_install.html\n",
      "  from .autonotebook import tqdm as notebook_tqdm\n"
     ]
    }
   ],
   "source": [
    "import torch\n",
    "from datasets import load_from_disk\n",
    "from transformers import (\n",
    "    BartTokenizer,\n",
    "    BartForConditionalGeneration,\n",
    "    Seq2SeqTrainingArguments,\n",
    "    Seq2SeqTrainer,\n",
    "    DataCollatorForSeq2Seq\n",
    ")"
   ]
  },
  {
   "cell_type": "code",
   "execution_count": 2,
   "metadata": {},
   "outputs": [],
   "source": [
    "# Загрузка датасета\n",
    "dataset = load_from_disk('dataset')\n",
    "train_dataset = dataset['train']\n",
    "test_dataset = dataset['test']\n",
    "\n",
    "# Инициализация токенизатора и модели\n",
    "model_name = 'facebook/bart-base'\n",
    "tokenizer = BartTokenizer.from_pretrained(model_name)\n",
    "model = BartForConditionalGeneration.from_pretrained(model_name).to('cuda')"
   ]
  },
  {
   "cell_type": "code",
   "execution_count": 3,
   "metadata": {},
   "outputs": [
    {
     "name": "stdout",
     "output_type": "stream",
     "text": [
      "Токенизированные длины для test_scenario:\n",
      "{'max': 31, 'min': 5, 'avg': 15.987961476725522, 'p95': 22}\n",
      "\n",
      "Токенизированные длины для test_steps:\n",
      "{'max': 302, 'min': 8, 'avg': 43.5920278223649, 'p95': 68}\n"
     ]
    }
   ],
   "source": [
    "# Функция для анализа длин в токенах\n",
    "def analyze_token_lengths(dataset, column_name):\n",
    "    token_lengths = [len(tokenizer.encode(text)) for text in dataset[column_name]]\n",
    "    max_length = max(token_lengths)\n",
    "    min_length = min(token_lengths)\n",
    "    avg_length = sum(token_lengths) / len(token_lengths)\n",
    "    p95_length = sorted(token_lengths)[int(len(token_lengths) * 0.95)]\n",
    "    return {\n",
    "        \"max\": max_length,\n",
    "        \"min\": min_length,\n",
    "        \"avg\": avg_length,\n",
    "        \"p95\": p95_length\n",
    "    }\n",
    "\n",
    "# Анализ длин входных данных в токенах\n",
    "input_token_stats = analyze_token_lengths(train_dataset, \"test_scenario\")\n",
    "print(\"Токенизированные длины для test_scenario:\")\n",
    "print(input_token_stats)\n",
    "\n",
    "# Анализ длин выходных данных в токенах\n",
    "target_token_stats = analyze_token_lengths(train_dataset, \"test_steps\")\n",
    "print(\"\\nТокенизированные длины для test_steps:\")\n",
    "print(target_token_stats)"
   ]
  },
  {
   "cell_type": "code",
   "execution_count": 3,
   "metadata": {},
   "outputs": [],
   "source": [
    "\n",
    "# Предобработка данных\n",
    "def preprocess_function(examples):\n",
    "    inputs = examples['test_scenario']\n",
    "    targets = examples['test_steps']\n",
    "    model_inputs = tokenizer(\n",
    "        inputs,\n",
    "        max_length=32,\n",
    "        truncation=True,\n",
    "        padding='max_length'\n",
    "    )\n",
    "    labels = tokenizer(\n",
    "        text_target=targets,\n",
    "        max_length=256,\n",
    "        truncation=True,\n",
    "        padding='max_length'\n",
    "    )\n",
    "    model_inputs['labels'] = labels['input_ids']\n",
    "    return model_inputs\n",
    "\n",
    "tokenized_train = train_dataset.map(preprocess_function, batched=True)\n",
    "tokenized_test = test_dataset.map(preprocess_function, batched=True)"
   ]
  },
  {
   "cell_type": "code",
   "execution_count": 4,
   "metadata": {},
   "outputs": [
    {
     "name": "stderr",
     "output_type": "stream",
     "text": [
      "C:\\Users\\Alex\\AppData\\Local\\Temp\\ipykernel_1912\\2553426354.py:25: FutureWarning: `tokenizer` is deprecated and will be removed in version 5.0.0 for `Seq2SeqTrainer.__init__`. Use `processing_class` instead.\n",
      "  trainer = Seq2SeqTrainer(\n"
     ]
    }
   ],
   "source": [
    "# Настройка data collator\n",
    "data_collator = DataCollatorForSeq2Seq(tokenizer, model=model)\n",
    "\n",
    "# Конфигурация обучения\n",
    "training_args = Seq2SeqTrainingArguments(\n",
    "    output_dir='./models',\n",
    "    eval_strategy='epoch',\n",
    "    save_strategy='epoch',\n",
    "    logging_steps=10,\n",
    "    save_total_limit=2,\n",
    "    num_train_epochs=10,\n",
    "    per_device_train_batch_size=8,\n",
    "    per_device_eval_batch_size=8,\n",
    "    gradient_accumulation_steps=2,\n",
    "    learning_rate=2e-5,\n",
    "    weight_decay=0.01,\n",
    "    predict_with_generate=True,\n",
    "    bf16=True,  # Включаем bfloat16\n",
    "    fp16=False,\n",
    "    report_to=\"none\",\n",
    "    load_best_model_at_end=True\n",
    ")\n",
    "\n",
    "# Инициализация тренера\n",
    "trainer = Seq2SeqTrainer(\n",
    "    model=model,\n",
    "    args=training_args,\n",
    "    train_dataset=tokenized_train,\n",
    "    eval_dataset=tokenized_test,\n",
    "    data_collator=data_collator,\n",
    "    tokenizer=tokenizer\n",
    ")"
   ]
  },
  {
   "cell_type": "code",
   "execution_count": 5,
   "metadata": {},
   "outputs": [
    {
     "data": {
      "text/html": [
       "\n",
       "    <div>\n",
       "      \n",
       "      <progress value='2340' max='2340' style='width:300px; height:20px; vertical-align: middle;'></progress>\n",
       "      [2340/2340 09:13, Epoch 10/10]\n",
       "    </div>\n",
       "    <table border=\"1\" class=\"dataframe\">\n",
       "  <thead>\n",
       " <tr style=\"text-align: left;\">\n",
       "      <th>Epoch</th>\n",
       "      <th>Training Loss</th>\n",
       "      <th>Validation Loss</th>\n",
       "    </tr>\n",
       "  </thead>\n",
       "  <tbody>\n",
       "    <tr>\n",
       "      <td>1</td>\n",
       "      <td>0.254400</td>\n",
       "      <td>0.219952</td>\n",
       "    </tr>\n",
       "    <tr>\n",
       "      <td>2</td>\n",
       "      <td>0.226500</td>\n",
       "      <td>0.176177</td>\n",
       "    </tr>\n",
       "    <tr>\n",
       "      <td>3</td>\n",
       "      <td>0.193900</td>\n",
       "      <td>0.162411</td>\n",
       "    </tr>\n",
       "    <tr>\n",
       "      <td>4</td>\n",
       "      <td>0.148600</td>\n",
       "      <td>0.154066</td>\n",
       "    </tr>\n",
       "    <tr>\n",
       "      <td>5</td>\n",
       "      <td>0.145100</td>\n",
       "      <td>0.146769</td>\n",
       "    </tr>\n",
       "    <tr>\n",
       "      <td>6</td>\n",
       "      <td>0.151900</td>\n",
       "      <td>0.141722</td>\n",
       "    </tr>\n",
       "    <tr>\n",
       "      <td>7</td>\n",
       "      <td>0.124500</td>\n",
       "      <td>0.138588</td>\n",
       "    </tr>\n",
       "    <tr>\n",
       "      <td>8</td>\n",
       "      <td>0.117000</td>\n",
       "      <td>0.136306</td>\n",
       "    </tr>\n",
       "    <tr>\n",
       "      <td>9</td>\n",
       "      <td>0.122800</td>\n",
       "      <td>0.135062</td>\n",
       "    </tr>\n",
       "    <tr>\n",
       "      <td>10</td>\n",
       "      <td>0.130200</td>\n",
       "      <td>0.134203</td>\n",
       "    </tr>\n",
       "  </tbody>\n",
       "</table><p>"
      ],
      "text/plain": [
       "<IPython.core.display.HTML object>"
      ]
     },
     "metadata": {},
     "output_type": "display_data"
    },
    {
     "name": "stderr",
     "output_type": "stream",
     "text": [
      "c:\\Cove\\Python Projects\\testcase_generation\\.venv\\Lib\\site-packages\\transformers\\modeling_utils.py:3353: UserWarning: Moving the following attributes in the config to the generation config: {'early_stopping': True, 'num_beams': 4, 'no_repeat_ngram_size': 3, 'forced_bos_token_id': 0}. You are seeing this warning because you've set generation parameters in the model config, as opposed to in the generation config.\n",
      "  warnings.warn(\n",
      "There were missing keys in the checkpoint model loaded: ['model.encoder.embed_tokens.weight', 'model.decoder.embed_tokens.weight', 'lm_head.weight'].\n"
     ]
    }
   ],
   "source": [
    "# Обучение модели\n",
    "trainer.train()\n",
    "\n",
    "# Сохранение модели\n",
    "trainer.save_model('./models/bart-test-case-generator')"
   ]
  },
  {
   "cell_type": "code",
   "execution_count": 6,
   "metadata": {},
   "outputs": [
    {
     "name": "stdout",
     "output_type": "stream",
     "text": [
      "Scenario: Verify course progress sync across devices when there are no interruptions.\n",
      "Generated steps: 1. Log in to the online learning platform on Device A.\n",
      "2. Navigate to a course on Device B.\n",
      "3. Check if the course progress is synchronized across devices.\n",
      "Actual steps: 1. Login to the online learning platform on Device A and start a course.\n",
      "2. Verify that the progress is synced to Device B without any interruptions.\n",
      "==================================================\n",
      "Scenario: Validate the accuracy of QoS metrics monitoring tool by monitoring network latency during peak hours.\n",
      "Generated steps: 1. Simulate high network latency during peak hours.\n",
      "2. Monitor network response time and latency.\n",
      "Actual steps: 1. Simulate peak hours traffic on the network.\n",
      "2. Monitor network latency for video streaming.\n",
      "==================================================\n",
      "Scenario: Verify that a user can send a message to a project collaborator.\n",
      "Generated steps: 1. Log in to the platform as a project collaborator.\n",
      "2. Navigate to the messaging feature.\n",
      "3. Select a specific project collaborator to send a message to.\n",
      "4. Click on the send button.\n",
      "Actual steps: 1. Log in to the platform as a project collaborator.\n",
      "2. Navigate to the messaging feature.\n",
      "3. Select a project collaborator to send a message.\n",
      "4. Type a message and click on the send button.\n",
      "==================================================\n",
      "Scenario: Check the system's response when generating a progress report for multiple students.\n",
      "Generated steps: 1. Log in to the online learning platform.\n",
      "2. Navigate to the progress report section.\n",
      "3. Generate a progress report for multiple students.\n",
      "Actual steps: 1. Log in to the online learning platform.\n",
      "2. Navigate to the progress tracking section.\n",
      "3. Generate a progress report for a group of students.\n",
      "==================================================\n",
      "Scenario: Validate the website's responsiveness to different screen sizes for sports and fitness equipment images.\n",
      "Generated steps: 1. Access the sports and fitness equipment website on a desktop computer.\n",
      "2. Navigate to different sections of the website (e.g., desktop, tablet, mobile).\n",
      "3. Verify that the website loads smoothly on each screen.\n",
      "Actual steps: 1. Resize the browser window to simulate different screen sizes.\n",
      "2. Check if the images adjust appropriately to different screen sizes.\n",
      "==================================================\n"
     ]
    }
   ],
   "source": [
    "# Проверка результатов\n",
    "def generate_steps(text):\n",
    "    inputs = tokenizer(text, return_tensors='pt', max_length=32, truncation=True).to('cuda')\n",
    "    output = model.generate(**inputs, max_length=256)\n",
    "    return tokenizer.decode(output[0], skip_special_tokens=True)\n",
    "\n",
    "# Тестирование на примерах\n",
    "sample = test_dataset.select(range(5))\n",
    "for example in sample:\n",
    "    print(f\"Scenario: {example['test_scenario']}\")\n",
    "    print(f\"Generated steps: {generate_steps(example['test_scenario'])}\")\n",
    "    print(f\"Actual steps: {example['test_steps']}\\n{'='*50}\")"
   ]
  }
 ],
 "metadata": {
  "kernelspec": {
   "display_name": ".venv",
   "language": "python",
   "name": "python3"
  },
  "language_info": {
   "codemirror_mode": {
    "name": "ipython",
    "version": 3
   },
   "file_extension": ".py",
   "mimetype": "text/x-python",
   "name": "python",
   "nbconvert_exporter": "python",
   "pygments_lexer": "ipython3",
   "version": "3.12.6"
  }
 },
 "nbformat": 4,
 "nbformat_minor": 2
}
